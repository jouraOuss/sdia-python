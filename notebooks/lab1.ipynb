{
 "cells": [
  {
   "cell_type": "code",
   "execution_count": null,
   "source": [],
   "outputs": [],
   "metadata": {}
  },
  {
   "cell_type": "markdown",
   "source": [
    "# Practical session 1 - Some Python basics\n",
    "\n",
    "Course: [SDIA-Python](https://github.com/guilgautier/sdia-python)\n",
    "\n",
    "Dates: 09/21/2021-09/22/2021\n",
    "\n",
    "Instructor: [Guillaume Gautier](https://guilgautier.github.io/)\n",
    "\n",
    "Students (pair):\n",
    "- [Student 1]([link](https://github.com/username1))\n",
    "- [Student 2]([link](https://github.com/username2))"
   ],
   "metadata": {}
  },
  {
   "cell_type": "code",
   "execution_count": 274,
   "source": [
    "%load_ext autoreload\r\n",
    "%autoreload 2"
   ],
   "outputs": [
    {
     "output_type": "stream",
     "name": "stdout",
     "text": [
      "The autoreload extension is already loaded. To reload it, use:\n",
      "  %reload_ext autoreload\n"
     ]
    }
   ],
   "metadata": {}
  },
  {
   "cell_type": "code",
   "execution_count": 275,
   "source": [
    "ss=5\r\n"
   ],
   "outputs": [],
   "metadata": {}
  },
  {
   "cell_type": "markdown",
   "source": [
    "## Documentation\n",
    "\n",
    "To display the documentation associated to a Python function in your notebook (launched in VSCode), you can either\n",
    "- run `?functionname` or `help(my_adder)`\n",
    "- place your mouse pointer on the function name\n",
    "- write the name of the function and start opening the brackets"
   ],
   "metadata": {}
  },
  {
   "cell_type": "markdown",
   "source": [
    "## Zen of Python\n"
   ],
   "metadata": {}
  },
  {
   "cell_type": "code",
   "execution_count": 276,
   "source": [
    "import this"
   ],
   "outputs": [],
   "metadata": {}
  },
  {
   "cell_type": "markdown",
   "source": [
    "## Reserved keywords\n"
   ],
   "metadata": {}
  },
  {
   "cell_type": "code",
   "execution_count": 277,
   "source": [
    "import keyword\r\n",
    "print(keyword.kwlist)"
   ],
   "outputs": [
    {
     "output_type": "stream",
     "name": "stdout",
     "text": [
      "['False', 'None', 'True', 'and', 'as', 'assert', 'async', 'await', 'break', 'class', 'continue', 'def', 'del', 'elif', 'else', 'except', 'finally', 'for', 'from', 'global', 'if', 'import', 'in', 'is', 'lambda', 'nonlocal', 'not', 'or', 'pass', 'raise', 'return', 'try', 'while', 'with', 'yield']\n"
     ]
    }
   ],
   "metadata": {}
  },
  {
   "cell_type": "markdown",
   "source": [
    "## Arithmetic"
   ],
   "metadata": {}
  },
  {
   "cell_type": "markdown",
   "source": [
    "Compute 4 raised to the power 8"
   ],
   "metadata": {}
  },
  {
   "cell_type": "code",
   "execution_count": 278,
   "source": [
    "4**8    "
   ],
   "outputs": [
    {
     "output_type": "execute_result",
     "data": {
      "text/plain": [
       "65536"
      ]
     },
     "metadata": {},
     "execution_count": 278
    }
   ],
   "metadata": {}
  },
  {
   "cell_type": "markdown",
   "source": [
    "Compute the quotient and the remainder of the euclidean division of 17 by 3. "
   ],
   "metadata": {}
  },
  {
   "cell_type": "code",
   "execution_count": 279,
   "source": [
    "x=17//3\r\n",
    "y=17%3\r\n",
    "x,y"
   ],
   "outputs": [
    {
     "output_type": "execute_result",
     "data": {
      "text/plain": [
       "(5, 2)"
      ]
     },
     "metadata": {},
     "execution_count": 279
    }
   ],
   "metadata": {}
  },
  {
   "cell_type": "markdown",
   "source": [
    "Create two integer variables `a, b` of your choice and swap their content."
   ],
   "metadata": {}
  },
  {
   "cell_type": "code",
   "execution_count": 280,
   "source": [
    "a=3\r\n",
    "b=5\r\n",
    "a,b=b,a\r\n",
    "a,b"
   ],
   "outputs": [
    {
     "output_type": "execute_result",
     "data": {
      "text/plain": [
       "(5, 3)"
      ]
     },
     "metadata": {},
     "execution_count": 280
    }
   ],
   "metadata": {}
  },
  {
   "cell_type": "markdown",
   "source": [
    "Modify `a` inplace, so that the new value of `a` is twice its previous value."
   ],
   "metadata": {}
  },
  {
   "cell_type": "code",
   "execution_count": 281,
   "source": [
    "a*=2"
   ],
   "outputs": [],
   "metadata": {}
  },
  {
   "cell_type": "code",
   "execution_count": 282,
   "source": [
    "a"
   ],
   "outputs": [
    {
     "output_type": "execute_result",
     "data": {
      "text/plain": [
       "10"
      ]
     },
     "metadata": {},
     "execution_count": 282
    }
   ],
   "metadata": {}
  },
  {
   "cell_type": "markdown",
   "source": [
    "Define a complex number `z` and print it as\n",
    "\n",
    "`real=real-part, imag=imaginary-part`"
   ],
   "metadata": {}
  },
  {
   "cell_type": "code",
   "execution_count": 283,
   "source": [
    "t = 5+3*1.j\r\n",
    "z=complex(5,3)\r\n",
    "z,t\r\n"
   ],
   "outputs": [
    {
     "output_type": "execute_result",
     "data": {
      "text/plain": [
       "((5+3j), (5+3j))"
      ]
     },
     "metadata": {},
     "execution_count": 283
    }
   ],
   "metadata": {}
  },
  {
   "cell_type": "markdown",
   "source": [
    "## Strings\n"
   ],
   "metadata": {}
  },
  {
   "cell_type": "markdown",
   "source": [
    "Propose two ways to define an empty string"
   ],
   "metadata": {}
  },
  {
   "cell_type": "code",
   "execution_count": 284,
   "source": [
    "empty1 = \"\"\r\n",
    "empty2 = str()"
   ],
   "outputs": [],
   "metadata": {}
  },
  {
   "cell_type": "code",
   "execution_count": 285,
   "source": [
    "empty1"
   ],
   "outputs": [
    {
     "output_type": "execute_result",
     "data": {
      "text/plain": [
       "''"
      ]
     },
     "metadata": {},
     "execution_count": 285
    }
   ],
   "metadata": {}
  },
  {
   "cell_type": "code",
   "execution_count": 286,
   "source": [
    "empty2"
   ],
   "outputs": [
    {
     "output_type": "execute_result",
     "data": {
      "text/plain": [
       "''"
      ]
     },
     "metadata": {},
     "execution_count": 286
    }
   ],
   "metadata": {}
  },
  {
   "cell_type": "markdown",
   "source": [
    "Define a string made of the 26 letters of the alphabet (lower case), then\n",
    "- What is the 12th letter of the alphabet\n",
    "- What are the 10 last letters of the alphabet\n",
    "- What are the 5th to the 10th letters of the alphabet\n",
    "- Create a new string where the 26 letters are converted to upper case."
   ],
   "metadata": {}
  },
  {
   "cell_type": "code",
   "execution_count": 287,
   "source": [
    "letters=\"abcdefghijklmnopqrstuvwxyz\"\r\n",
    "letters[-11: ]"
   ],
   "outputs": [
    {
     "output_type": "execute_result",
     "data": {
      "text/plain": [
       "'pqrstuvwxyz'"
      ]
     },
     "metadata": {},
     "execution_count": 287
    }
   ],
   "metadata": {}
  },
  {
   "cell_type": "code",
   "execution_count": 288,
   "source": [
    "letters[16:]"
   ],
   "outputs": [
    {
     "output_type": "execute_result",
     "data": {
      "text/plain": [
       "'qrstuvwxyz'"
      ]
     },
     "metadata": {},
     "execution_count": 288
    }
   ],
   "metadata": {}
  },
  {
   "cell_type": "code",
   "execution_count": 289,
   "source": [
    "letters[4:10]"
   ],
   "outputs": [
    {
     "output_type": "execute_result",
     "data": {
      "text/plain": [
       "'efghij'"
      ]
     },
     "metadata": {},
     "execution_count": 289
    }
   ],
   "metadata": {}
  },
  {
   "cell_type": "code",
   "execution_count": 290,
   "source": [
    "Letters=letters.upper()\r\n",
    "Letters"
   ],
   "outputs": [
    {
     "output_type": "execute_result",
     "data": {
      "text/plain": [
       "'ABCDEFGHIJKLMNOPQRSTUVWXYZ'"
      ]
     },
     "metadata": {},
     "execution_count": 290
    }
   ],
   "metadata": {}
  },
  {
   "cell_type": "markdown",
   "source": [
    "Extract the first 4 digits of the number `x = 2341324530045968` (answer is `2341`)."
   ],
   "metadata": {}
  },
  {
   "cell_type": "code",
   "execution_count": 291,
   "source": [
    "\r\n",
    "x=2341324530045968\r\n",
    "strx=str(x)\r\n",
    "y=int(strx[:4])\r\n",
    "y\r\n"
   ],
   "outputs": [
    {
     "output_type": "execute_result",
     "data": {
      "text/plain": [
       "2341"
      ]
     },
     "metadata": {},
     "execution_count": 291
    }
   ],
   "metadata": {}
  },
  {
   "cell_type": "markdown",
   "source": [
    "## Lists"
   ],
   "metadata": {}
  },
  {
   "cell_type": "markdown",
   "source": [
    "Propose two ways to define an empty list."
   ],
   "metadata": {}
  },
  {
   "cell_type": "code",
   "execution_count": 292,
   "source": [
    "listvide1=[]\r\n",
    "listvide2=list()"
   ],
   "outputs": [],
   "metadata": {}
  },
  {
   "cell_type": "code",
   "execution_count": 293,
   "source": [
    "listvide1"
   ],
   "outputs": [
    {
     "output_type": "execute_result",
     "data": {
      "text/plain": [
       "[]"
      ]
     },
     "metadata": {},
     "execution_count": 293
    }
   ],
   "metadata": {}
  },
  {
   "cell_type": "code",
   "execution_count": 294,
   "source": [
    "listvide2"
   ],
   "outputs": [
    {
     "output_type": "execute_result",
     "data": {
      "text/plain": [
       "[]"
      ]
     },
     "metadata": {},
     "execution_count": 294
    }
   ],
   "metadata": {}
  },
  {
   "cell_type": "markdown",
   "source": [
    "Create the list of consecutive integers from 5 to 11."
   ],
   "metadata": {}
  },
  {
   "cell_type": "code",
   "execution_count": 295,
   "source": [
    "L= [5,6,7,8,9,10,11]\r\n",
    "L1= [i for i in range(5,12)]\r\n",
    "L1"
   ],
   "outputs": [
    {
     "output_type": "execute_result",
     "data": {
      "text/plain": [
       "[5, 6, 7, 8, 9, 10, 11]"
      ]
     },
     "metadata": {},
     "execution_count": 295
    }
   ],
   "metadata": {}
  },
  {
   "cell_type": "markdown",
   "source": [
    "Add `100` to this list."
   ],
   "metadata": {}
  },
  {
   "cell_type": "code",
   "execution_count": 296,
   "source": [
    "L.append(100)\r\n",
    "L"
   ],
   "outputs": [
    {
     "output_type": "execute_result",
     "data": {
      "text/plain": [
       "[5, 6, 7, 8, 9, 10, 11, 100]"
      ]
     },
     "metadata": {},
     "execution_count": 296
    }
   ],
   "metadata": {}
  },
  {
   "cell_type": "markdown",
   "source": [
    "Given the following list, \n",
    "Change the `\"sdia\"` to its reverse (`\"aids\"`)."
   ],
   "metadata": {}
  },
  {
   "cell_type": "code",
   "execution_count": 297,
   "source": [
    "x = [10, [3, 4], [5, [100, 200, [\"sdia\"]], 23, 11], 1, 7]\r\n",
    "x[2][1][2][0] = \"aids\"\r\n",
    "\r\n",
    "x"
   ],
   "outputs": [
    {
     "output_type": "execute_result",
     "data": {
      "text/plain": [
       "[10, [3, 4], [5, [100, 200, ['aids']], 23, 11], 1, 7]"
      ]
     },
     "metadata": {},
     "execution_count": 297
    }
   ],
   "metadata": {}
  },
  {
   "cell_type": "code",
   "execution_count": 298,
   "source": [
    "x[2][1][2][0]=\"aids\""
   ],
   "outputs": [],
   "metadata": {}
  },
  {
   "cell_type": "code",
   "execution_count": 299,
   "source": [
    "x"
   ],
   "outputs": [
    {
     "output_type": "execute_result",
     "data": {
      "text/plain": [
       "[10, [3, 4], [5, [100, 200, ['aids']], 23, 11], 1, 7]"
      ]
     },
     "metadata": {},
     "execution_count": 299
    }
   ],
   "metadata": {}
  },
  {
   "cell_type": "markdown",
   "source": [
    "Given the following list, \n",
    "\n",
    "  1. extract the first two items\n",
    "  2. extract the last two items\n",
    "  3. find the index of the first occurence of `9`\n",
    "  4. extract the items located at odd indices\n",
    "  5. create a new list which corresponds to the reversed version of the originial list\n",
    "  6. create a new list where each item of the original list is raised to the power 3"
   ],
   "metadata": {}
  },
  {
   "cell_type": "code",
   "execution_count": 300,
   "source": [
    "x = [3, 7, 5, 3, 8, 6, 8, 8, 0, 7, 3, 9, 3, 4, 2, 7, 0, 9, 5, 0, 0, 9, 0, 9, 3, 1, 4, 0, 5, 5, 5, 8, 9, 9, 5, 5, 4, 9, 5, 6, 2, 8, 5, 2, 4, 9, 2, 2, 3, 1]\r\n"
   ],
   "outputs": [],
   "metadata": {}
  },
  {
   "cell_type": "code",
   "execution_count": 301,
   "source": [
    "x[:2]"
   ],
   "outputs": [
    {
     "output_type": "execute_result",
     "data": {
      "text/plain": [
       "[3, 7]"
      ]
     },
     "metadata": {},
     "execution_count": 301
    }
   ],
   "metadata": {}
  },
  {
   "cell_type": "code",
   "execution_count": 302,
   "source": [
    "x[-2:]"
   ],
   "outputs": [
    {
     "output_type": "execute_result",
     "data": {
      "text/plain": [
       "[3, 1]"
      ]
     },
     "metadata": {},
     "execution_count": 302
    }
   ],
   "metadata": {}
  },
  {
   "cell_type": "code",
   "execution_count": 303,
   "source": [
    "x.index(9)"
   ],
   "outputs": [
    {
     "output_type": "execute_result",
     "data": {
      "text/plain": [
       "11"
      ]
     },
     "metadata": {},
     "execution_count": 303
    }
   ],
   "metadata": {}
  },
  {
   "cell_type": "code",
   "execution_count": 304,
   "source": [
    "x[1::2]"
   ],
   "outputs": [
    {
     "output_type": "execute_result",
     "data": {
      "text/plain": [
       "[7, 3, 6, 8, 7, 9, 4, 7, 9, 0, 9, 9, 1, 0, 5, 8, 9, 5, 9, 6, 8, 2, 9, 2, 1]"
      ]
     },
     "metadata": {},
     "execution_count": 304
    }
   ],
   "metadata": {}
  },
  {
   "cell_type": "code",
   "execution_count": 305,
   "source": [
    "x[::-1]"
   ],
   "outputs": [
    {
     "output_type": "execute_result",
     "data": {
      "text/plain": [
       "[1,\n",
       " 3,\n",
       " 2,\n",
       " 2,\n",
       " 9,\n",
       " 4,\n",
       " 2,\n",
       " 5,\n",
       " 8,\n",
       " 2,\n",
       " 6,\n",
       " 5,\n",
       " 9,\n",
       " 4,\n",
       " 5,\n",
       " 5,\n",
       " 9,\n",
       " 9,\n",
       " 8,\n",
       " 5,\n",
       " 5,\n",
       " 5,\n",
       " 0,\n",
       " 4,\n",
       " 1,\n",
       " 3,\n",
       " 9,\n",
       " 0,\n",
       " 9,\n",
       " 0,\n",
       " 0,\n",
       " 5,\n",
       " 9,\n",
       " 0,\n",
       " 7,\n",
       " 2,\n",
       " 4,\n",
       " 3,\n",
       " 9,\n",
       " 3,\n",
       " 7,\n",
       " 0,\n",
       " 8,\n",
       " 8,\n",
       " 6,\n",
       " 8,\n",
       " 3,\n",
       " 5,\n",
       " 7,\n",
       " 3]"
      ]
     },
     "metadata": {},
     "execution_count": 305
    }
   ],
   "metadata": {}
  },
  {
   "cell_type": "code",
   "execution_count": 306,
   "source": [
    "[i**3 for i in x]"
   ],
   "outputs": [
    {
     "output_type": "execute_result",
     "data": {
      "text/plain": [
       "[27,\n",
       " 343,\n",
       " 125,\n",
       " 27,\n",
       " 512,\n",
       " 216,\n",
       " 512,\n",
       " 512,\n",
       " 0,\n",
       " 343,\n",
       " 27,\n",
       " 729,\n",
       " 27,\n",
       " 64,\n",
       " 8,\n",
       " 343,\n",
       " 0,\n",
       " 729,\n",
       " 125,\n",
       " 0,\n",
       " 0,\n",
       " 729,\n",
       " 0,\n",
       " 729,\n",
       " 27,\n",
       " 1,\n",
       " 64,\n",
       " 0,\n",
       " 125,\n",
       " 125,\n",
       " 125,\n",
       " 512,\n",
       " 729,\n",
       " 729,\n",
       " 125,\n",
       " 125,\n",
       " 64,\n",
       " 729,\n",
       " 125,\n",
       " 216,\n",
       " 8,\n",
       " 512,\n",
       " 125,\n",
       " 8,\n",
       " 64,\n",
       " 729,\n",
       " 8,\n",
       " 8,\n",
       " 27,\n",
       " 1]"
      ]
     },
     "metadata": {},
     "execution_count": 306
    }
   ],
   "metadata": {}
  },
  {
   "cell_type": "markdown",
   "source": [
    "## Tuples"
   ],
   "metadata": {}
  },
  {
   "cell_type": "markdown",
   "source": [
    "\n",
    "Propose two ways to define an empty tuple."
   ],
   "metadata": {}
  },
  {
   "cell_type": "code",
   "execution_count": 307,
   "source": [
    "tuplevide1=()\r\n",
    "tuplevide2=tuple()"
   ],
   "outputs": [],
   "metadata": {}
  },
  {
   "cell_type": "code",
   "execution_count": 308,
   "source": [
    "tuplevide1"
   ],
   "outputs": [
    {
     "output_type": "execute_result",
     "data": {
      "text/plain": [
       "()"
      ]
     },
     "metadata": {},
     "execution_count": 308
    }
   ],
   "metadata": {}
  },
  {
   "cell_type": "code",
   "execution_count": 309,
   "source": [
    "tuplevide2"
   ],
   "outputs": [
    {
     "output_type": "execute_result",
     "data": {
      "text/plain": [
       "()"
      ]
     },
     "metadata": {},
     "execution_count": 309
    }
   ],
   "metadata": {}
  },
  {
   "cell_type": "markdown",
   "source": [
    "Given the following tuple\n",
    "- try to replace the second item (`4`) to `8`.\n",
    "- modify the list so that the second element of the first item is raised to the power 5 "
   ],
   "metadata": {}
  },
  {
   "cell_type": "code",
   "execution_count": 310,
   "source": [
    "x = ([1, 2, 3], 4)"
   ],
   "outputs": [],
   "metadata": {}
  },
  {
   "cell_type": "code",
   "execution_count": 311,
   "source": [
    "x[0][1]=x[0][1]**5"
   ],
   "outputs": [],
   "metadata": {}
  },
  {
   "cell_type": "code",
   "execution_count": 312,
   "source": [
    "x"
   ],
   "outputs": [
    {
     "output_type": "execute_result",
     "data": {
      "text/plain": [
       "([1, 32, 3], 4)"
      ]
     },
     "metadata": {},
     "execution_count": 312
    }
   ],
   "metadata": {}
  },
  {
   "cell_type": "markdown",
   "source": [
    "What is the main difference between a list and a tuple?"
   ],
   "metadata": {}
  },
  {
   "cell_type": "markdown",
   "source": [
    "les tuples sont non modifiables"
   ],
   "metadata": {}
  },
  {
   "cell_type": "markdown",
   "source": [
    "## Sets"
   ],
   "metadata": {}
  },
  {
   "cell_type": "markdown",
   "source": [
    "Create an empty set"
   ],
   "metadata": {}
  },
  {
   "cell_type": "code",
   "execution_count": 313,
   "source": [
    "setvide=set()"
   ],
   "outputs": [],
   "metadata": {}
  },
  {
   "cell_type": "markdown",
   "source": [
    "Compute the intersection between $A = \\{1, 2, 3\\}$ and $B = \\{2, 4, 5, 6\\}$."
   ],
   "metadata": {}
  },
  {
   "cell_type": "code",
   "execution_count": 314,
   "source": [
    "A={1,2,3}\r\n",
    "B={2,4,5,6}"
   ],
   "outputs": [],
   "metadata": {}
  },
  {
   "cell_type": "code",
   "execution_count": 315,
   "source": [
    "A.intersection(B)"
   ],
   "outputs": [
    {
     "output_type": "execute_result",
     "data": {
      "text/plain": [
       "{2}"
      ]
     },
     "metadata": {},
     "execution_count": 315
    }
   ],
   "metadata": {}
  },
  {
   "cell_type": "markdown",
   "source": [
    "From the following set\r\n",
    "- add the numbers 4, 5, 6\r\n",
    "- remove the numbers 1, 2, 3\r\n",
    "- check if the resulting set is contained in `{1, 2, 4, 5, 6, 10}` "
   ],
   "metadata": {}
  },
  {
   "cell_type": "code",
   "execution_count": 316,
   "source": [
    "x = {0, 1, 2, 3, 6, 7, 8, 9, 10}"
   ],
   "outputs": [],
   "metadata": {}
  },
  {
   "cell_type": "code",
   "execution_count": 317,
   "source": [
    "x.add(4)\r\n",
    "x.add(5)\r\n",
    "x.add(6)"
   ],
   "outputs": [],
   "metadata": {}
  },
  {
   "cell_type": "code",
   "execution_count": 318,
   "source": [
    "x"
   ],
   "outputs": [
    {
     "output_type": "execute_result",
     "data": {
      "text/plain": [
       "{0, 1, 2, 3, 4, 5, 6, 7, 8, 9, 10}"
      ]
     },
     "metadata": {},
     "execution_count": 318
    }
   ],
   "metadata": {}
  },
  {
   "cell_type": "code",
   "execution_count": 319,
   "source": [
    "x.remove(1)\r\n",
    "x.remove(2)\r\n",
    "x.remove(3)"
   ],
   "outputs": [],
   "metadata": {}
  },
  {
   "cell_type": "code",
   "execution_count": 320,
   "source": [
    "x"
   ],
   "outputs": [
    {
     "output_type": "execute_result",
     "data": {
      "text/plain": [
       "{0, 4, 5, 6, 7, 8, 9, 10}"
      ]
     },
     "metadata": {},
     "execution_count": 320
    }
   ],
   "metadata": {}
  },
  {
   "cell_type": "code",
   "execution_count": 321,
   "source": [
    "y={1, 2, 4, 5, 6, 10}\r\n",
    "x.issubset(y)"
   ],
   "outputs": [
    {
     "output_type": "execute_result",
     "data": {
      "text/plain": [
       "False"
      ]
     },
     "metadata": {},
     "execution_count": 321
    }
   ],
   "metadata": {}
  },
  {
   "cell_type": "markdown",
   "source": [
    "## Dictionnaries"
   ],
   "metadata": {}
  },
  {
   "cell_type": "markdown",
   "source": [
    "Propose two ways to define an empty dictionary"
   ],
   "metadata": {}
  },
  {
   "cell_type": "code",
   "execution_count": 322,
   "source": [
    "dicvide1={}\r\n",
    "dicvide2=dict()"
   ],
   "outputs": [],
   "metadata": {}
  },
  {
   "cell_type": "code",
   "execution_count": 323,
   "source": [
    "dicvide1"
   ],
   "outputs": [
    {
     "output_type": "execute_result",
     "data": {
      "text/plain": [
       "{}"
      ]
     },
     "metadata": {},
     "execution_count": 323
    }
   ],
   "metadata": {}
  },
  {
   "cell_type": "code",
   "execution_count": 324,
   "source": [
    "dicvide2"
   ],
   "outputs": [
    {
     "output_type": "execute_result",
     "data": {
      "text/plain": [
       "{}"
      ]
     },
     "metadata": {},
     "execution_count": 324
    }
   ],
   "metadata": {}
  },
  {
   "cell_type": "markdown",
   "source": [
    "Propose at least 3 ways to define a dictionary with \n",
    "- keys `(\"a\", \"b\", \"c\", \"d\")`\n",
    "- values `(1, 3, 5 , 7)`"
   ],
   "metadata": {}
  },
  {
   "cell_type": "code",
   "execution_count": 325,
   "source": [
    "dict1={\"a\":1,\"b\":2,\"c\":5,\"d\":7}\r\n",
    "dict2=dict(a=1, b=3, c=5, d=7)\r\n",
    "dict3=dict()\r\n",
    "dict3.update(a=1,b=3,c=5,d=7)\r\n"
   ],
   "outputs": [],
   "metadata": {}
  },
  {
   "cell_type": "code",
   "execution_count": 326,
   "source": [
    "dict1"
   ],
   "outputs": [
    {
     "output_type": "execute_result",
     "data": {
      "text/plain": [
       "{'a': 1, 'b': 2, 'c': 5, 'd': 7}"
      ]
     },
     "metadata": {},
     "execution_count": 326
    }
   ],
   "metadata": {}
  },
  {
   "cell_type": "code",
   "execution_count": 327,
   "source": [
    "dict2"
   ],
   "outputs": [
    {
     "output_type": "execute_result",
     "data": {
      "text/plain": [
       "{'a': 1, 'b': 3, 'c': 5, 'd': 7}"
      ]
     },
     "metadata": {},
     "execution_count": 327
    }
   ],
   "metadata": {}
  },
  {
   "cell_type": "code",
   "execution_count": 328,
   "source": [
    "dict3"
   ],
   "outputs": [
    {
     "output_type": "execute_result",
     "data": {
      "text/plain": [
       "{'a': 1, 'b': 3, 'c': 5, 'd': 7}"
      ]
     },
     "metadata": {},
     "execution_count": 328
    }
   ],
   "metadata": {}
  },
  {
   "cell_type": "markdown",
   "source": [
    "Given the following dictionary, use indexing to get to the word `\"sdia\"`"
   ],
   "metadata": {}
  },
  {
   "cell_type": "code",
   "execution_count": 329,
   "source": [
    "d = {\r\n",
    "    \"outer\": [\r\n",
    "        1,\r\n",
    "        2,\r\n",
    "        3,\r\n",
    "        {\"inner\": [\"this\", \"is\", \"inception\", {\"inner_inner\": [1, 2, 3, \"sdia\"]}]},\r\n",
    "    ]\r\n",
    "}"
   ],
   "outputs": [],
   "metadata": {}
  },
  {
   "cell_type": "code",
   "execution_count": 330,
   "source": [
    "d[\"outer\"][3][\"inner\"][3][\"inner_inner\"][3]"
   ],
   "outputs": [
    {
     "output_type": "execute_result",
     "data": {
      "text/plain": [
       "'sdia'"
      ]
     },
     "metadata": {},
     "execution_count": 330
    }
   ],
   "metadata": {}
  },
  {
   "cell_type": "markdown",
   "source": [
    "From the following dictionary,\r\n",
    "- Create the list of keys\r\n",
    "- Create the list of values\r\n",
    "- Check if the key `\"abc\"` is present, if not, return `123`.\r\n",
    "- Merge the initial dictionary with `{\"e\": -1, 4: True}`"
   ],
   "metadata": {}
  },
  {
   "cell_type": "code",
   "execution_count": 331,
   "source": [
    "d1 = dict(zip([(0, 1), \"e\", 1, None], [\"abc\", 4, None, 1 + 2j]))"
   ],
   "outputs": [],
   "metadata": {}
  },
  {
   "cell_type": "code",
   "execution_count": 332,
   "source": [
    "d1"
   ],
   "outputs": [
    {
     "output_type": "execute_result",
     "data": {
      "text/plain": [
       "{(0, 1): 'abc', 'e': 4, 1: None, None: (1+2j)}"
      ]
     },
     "metadata": {},
     "execution_count": 332
    }
   ],
   "metadata": {}
  },
  {
   "cell_type": "code",
   "execution_count": 333,
   "source": [
    "d1.keys()"
   ],
   "outputs": [
    {
     "output_type": "execute_result",
     "data": {
      "text/plain": [
       "dict_keys([(0, 1), 'e', 1, None])"
      ]
     },
     "metadata": {},
     "execution_count": 333
    }
   ],
   "metadata": {}
  },
  {
   "cell_type": "code",
   "execution_count": 334,
   "source": [
    "d1.values()"
   ],
   "outputs": [
    {
     "output_type": "execute_result",
     "data": {
      "text/plain": [
       "dict_values(['abc', 4, None, (1+2j)])"
      ]
     },
     "metadata": {},
     "execution_count": 334
    }
   ],
   "metadata": {}
  },
  {
   "cell_type": "code",
   "execution_count": 335,
   "source": [
    "if not(\"abc\" in d1.keys()):\r\n",
    "    print(123)"
   ],
   "outputs": [
    {
     "output_type": "stream",
     "name": "stdout",
     "text": [
      "123\n"
     ]
    }
   ],
   "metadata": {}
  },
  {
   "cell_type": "code",
   "execution_count": 336,
   "source": [
    "d2={\"e\": -1, 4: True}"
   ],
   "outputs": [],
   "metadata": {}
  },
  {
   "cell_type": "code",
   "execution_count": 337,
   "source": [
    "d1.update(d2)"
   ],
   "outputs": [],
   "metadata": {}
  },
  {
   "cell_type": "code",
   "execution_count": 338,
   "source": [
    "d1"
   ],
   "outputs": [
    {
     "output_type": "execute_result",
     "data": {
      "text/plain": [
       "{(0, 1): 'abc', 'e': -1, 1: None, None: (1+2j), 4: True}"
      ]
     },
     "metadata": {},
     "execution_count": 338
    }
   ],
   "metadata": {}
  },
  {
   "cell_type": "markdown",
   "source": [
    "## Conditions"
   ],
   "metadata": {}
  },
  {
   "cell_type": "markdown",
   "source": [
    "Propose two ways to construct the list of odd values ranging from 0 to 30"
   ],
   "metadata": {}
  },
  {
   "cell_type": "code",
   "execution_count": 339,
   "source": [
    "l1=[2*i+1 for i in range(15)]\r\n",
    "l2=[i for i in range(31)]\r\n",
    "l2=l2[1::2]"
   ],
   "outputs": [],
   "metadata": {}
  },
  {
   "cell_type": "code",
   "execution_count": 340,
   "source": [
    "l1"
   ],
   "outputs": [
    {
     "output_type": "execute_result",
     "data": {
      "text/plain": [
       "[1, 3, 5, 7, 9, 11, 13, 15, 17, 19, 21, 23, 25, 27, 29]"
      ]
     },
     "metadata": {},
     "execution_count": 340
    }
   ],
   "metadata": {}
  },
  {
   "cell_type": "code",
   "execution_count": 341,
   "source": [
    "l2"
   ],
   "outputs": [
    {
     "output_type": "execute_result",
     "data": {
      "text/plain": [
       "[1, 3, 5, 7, 9, 11, 13, 15, 17, 19, 21, 23, 25, 27, 29]"
      ]
     },
     "metadata": {},
     "execution_count": 341
    }
   ],
   "metadata": {}
  },
  {
   "cell_type": "markdown",
   "source": [
    "From the following list, create another list which contains\n",
    "- `\"fiz\"` if the item is a multiple of 5,\n",
    "- `\"buz\"` if the item is a multiple of 7,\n",
    "- `\"fizbuz\"` if the item is a both a multiple of 5 and 7,\n",
    "- the index of the item otherwise."
   ],
   "metadata": {}
  },
  {
   "cell_type": "code",
   "execution_count": 342,
   "source": [
    "x = [2, 1, 3, 31, 35, 20, 70, 132, 144, 49]"
   ],
   "outputs": [],
   "metadata": {}
  },
  {
   "cell_type": "code",
   "execution_count": 343,
   "source": [
    "dx=[]\r\n",
    "for i in range(len(x)):\r\n",
    "    if x[i]%5==0 and x[i]%7==0 : dx.append(\"fizbuz\")\r\n",
    "    elif x[i]%5==0: dx.append(\"fiz\")\r\n",
    "    elif x[i]%7==0: dx.append(\"buz\")\r\n",
    "    else: dx.append(i)"
   ],
   "outputs": [],
   "metadata": {}
  },
  {
   "cell_type": "code",
   "execution_count": 344,
   "source": [
    "dx"
   ],
   "outputs": [
    {
     "output_type": "execute_result",
     "data": {
      "text/plain": [
       "[0, 1, 2, 3, 'fizbuz', 'fiz', 'fizbuz', 7, 8, 'buz']"
      ]
     },
     "metadata": {},
     "execution_count": 344
    }
   ],
   "metadata": {}
  },
  {
   "cell_type": "markdown",
   "source": [
    "Given a string variable `course`, construct a `if/elif/else` statement that prints:\r\n",
    "- `\"That is very useful!\"` if `course` is `\"maths\"` (any kind of capitalization)\r\n",
    "- `\"That is very useful!\"` if `course` is `\"python\"` (any kind of capitalization)\r\n",
    "- `\"How nice!\"` if `course` is `\"meditation\"` (any kind of capitalization)\r\n",
    "- `\"You're not at Hogwarts\"` if `course` is `\"magic\"` (any kind of capitalization)\r\n",
    "- otherwise `\"What is this COURSE?\"` if `course` is anything else."
   ],
   "metadata": {}
  },
  {
   "cell_type": "code",
   "execution_count": 345,
   "source": [
    "#course=\"maths\"\r\n",
    "#course=\"python\"\r\n",
    "#course=\"meditation\"\r\n",
    "course=\"mAgic\"\r\n"
   ],
   "outputs": [],
   "metadata": {}
  },
  {
   "cell_type": "code",
   "execution_count": 346,
   "source": [
    "if course.lower()==\"maths\": print(\"That is very useful!\")\r\n",
    "elif course.lower()==\"python\": print(\"That is very useful!\")\r\n",
    "elif course.lower()==\"meditation\": print(\"How nice!\")\r\n",
    "elif course.lower()==\"magic\": print(\"You're not at Hogwarts\")\r\n",
    "else: print(\"What is this COURSE?\")"
   ],
   "outputs": [
    {
     "output_type": "stream",
     "name": "stdout",
     "text": [
      "You're not at Hogwarts\n"
     ]
    }
   ],
   "metadata": {}
  },
  {
   "cell_type": "markdown",
   "source": [
    "Given the following variables, create and print the string\n",
    "\n",
    "``quantity`` ``fruit``(s) cost(s) $``price``\n",
    "\n",
    "such that\n",
    "- there is an `\"s\"` at `\"cost\"` when there is more only one fruit,\n",
    "- there is an `\"s\"` at `\"fruit\"` when there is more that one fruit,\n",
    "- the price is displayed as ...,xxx,xxx.yy where yy corresponds rounded cents value"
   ],
   "metadata": {}
  },
  {
   "cell_type": "code",
   "execution_count": 347,
   "source": [
    "quantity = 1\r\n",
    "fruit = \"avocado\"\r\n",
    "price = 1.8912392e4"
   ],
   "outputs": [],
   "metadata": {}
  },
  {
   "cell_type": "markdown",
   "source": [
    "## Functions\n",
    "\n",
    "- Create your function in `src/sdia_python/lab1/functions.py` files\n",
    "- Import them using `from sdia_python.lab1.functions import MYFUNCTION`"
   ],
   "metadata": {}
  },
  {
   "cell_type": "markdown",
   "source": [
    "Define the function `is_unique(x)` which takes a list of integers `x` as input and returns `True` if the there is no duplicate items otherwise return `False`."
   ],
   "metadata": {}
  },
  {
   "cell_type": "code",
   "execution_count": 348,
   "source": [
    "def is_unique(x):\r\n",
    "    if x == []:\r\n",
    "        return True\r\n",
    "    else:\r\n",
    "        y = x.pop()\r\n",
    "        if y in x:\r\n",
    "            return False\r\n",
    "        else:\r\n",
    "            return is_unique(x)"
   ],
   "outputs": [],
   "metadata": {}
  },
  {
   "cell_type": "markdown",
   "source": [],
   "metadata": {}
  },
  {
   "cell_type": "markdown",
   "source": [
    "Define a function `triangle_shape(height)`, that returns \r\n",
    "- `\"\"` if `height=0`, \r\n",
    "- otherwise it returns a string that forms a triangle with height prescribed by `height`.\r\n",
    "\r\n",
    "**Examples**\r\n",
    "\r\n",
    "height=1\r\n",
    "```\r\n",
    "x\r\n",
    "```\r\n",
    "\r\n",
    "height=2\r\n",
    "```\r\n",
    " x \r\n",
    "xxx\r\n",
    "```\r\n",
    "\r\n",
    "height=3\r\n",
    "```\r\n",
    "  x  \r\n",
    " xxx \r\n",
    "xxxxx\r\n",
    "```\r\n",
    "\r\n",
    "height=4\r\n",
    "```\r\n",
    "   x   \r\n",
    "  xxx  \r\n",
    " xxxxx \r\n",
    "xxxxxxx\r\n",
    "```\r\n",
    "\r\n",
    "height=5\r\n",
    "```\r\n",
    "    x    \r\n",
    "   xxx   \r\n",
    "  xxxxx  \r\n",
    " xxxxxxx \r\n",
    "xxxxxxxxx\r\n",
    "```\r\n",
    "\r\n",
    "height=6\r\n",
    "```\r\n",
    "     x     \r\n",
    "    xxx    \r\n",
    "   xxxxx   \r\n",
    "  xxxxxxx  \r\n",
    " xxxxxxxxx \r\n",
    "xxxxxxxxxxx\r\n",
    "```"
   ],
   "metadata": {}
  },
  {
   "cell_type": "code",
   "execution_count": null,
   "source": [],
   "outputs": [],
   "metadata": {}
  },
  {
   "cell_type": "code",
   "execution_count": 1,
   "source": [
    "def triangle_shape(height):\r\n",
    "    s = \"x\"\r\n",
    "    esp = \" \"\r\n",
    "    if height == 0:\r\n",
    "        return \"\"\r\n",
    "    return \"\\n\".join(\r\n",
    "        [\r\n",
    "            (height - 1 - i) * esp + (2 * i + 1) * s + (height - 1 - i) * esp\r\n",
    "            for i in range(height)\r\n",
    "        ]\r\n",
    "    )           "
   ],
   "outputs": [],
   "metadata": {}
  },
  {
   "cell_type": "code",
   "execution_count": 1,
   "source": [
    "from sdia_python.lab2.box_window import BoxWindow\r\n",
    "from sdia_python.lab2.box_window import UnitBoxWindow\r\n",
    "\r\n",
    "a=UnitBoxWindow([0,5],2)\r\n",
    "str(a)"
   ],
   "outputs": [
    {
     "output_type": "execute_result",
     "data": {
      "text/plain": [
       "'BoxWindow : [-0.5, 0.5] x [4.5, 5.5]'"
      ]
     },
     "metadata": {},
     "execution_count": 1
    }
   ],
   "metadata": {}
  }
 ],
 "metadata": {
  "orig_nbformat": 4,
  "language_info": {
   "name": "python",
   "version": "3.8.11",
   "mimetype": "text/x-python",
   "codemirror_mode": {
    "name": "ipython",
    "version": 3
   },
   "pygments_lexer": "ipython3",
   "nbconvert_exporter": "python",
   "file_extension": ".py"
  },
  "kernelspec": {
   "name": "python3",
   "display_name": "Python 3.8.11 64-bit ('sdia-python': conda)"
  },
  "interpreter": {
   "hash": "ce53bd1e3f4f23d919375827502dc7674b38ae312391deed7b160f20d210204c"
  }
 },
 "nbformat": 4,
 "nbformat_minor": 2
}
