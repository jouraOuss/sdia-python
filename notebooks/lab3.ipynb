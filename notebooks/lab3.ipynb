{
 "cells": [
  {
   "cell_type": "code",
   "execution_count": null,
   "metadata": {},
   "outputs": [],
   "source": []
  },
  {
   "cell_type": "markdown",
   "metadata": {},
   "source": [
    "# Practical session 3 - Practice with numpy\n",
    "\n",
    "Course: [SDIA-Python](https://github.com/guilgautier/sdia-python)\n",
    "\n",
    "Date: 10/06/2021\n",
    "\n",
    "Instructor: [Guillaume Gautier](https://guilgautier.github.io/)\n",
    "\n",
    "Students (pair):\n",
    "- [Student 1]([link](https://github.com/username1))\n",
    "- [Student 2]([link](https://github.com/username2))"
   ]
  },
  {
   "cell_type": "code",
   "execution_count": 2,
   "metadata": {},
   "outputs": [],
   "source": [
    "%load_ext autoreload\n",
    "%autoreload 2\n",
    "\n",
    "import numpy as np\n",
    "from sdia_python.lab2.utils import get_random_number_generator"
   ]
  },
  {
   "cell_type": "code",
   "execution_count": 3,
   "metadata": {},
   "outputs": [
    {
     "name": "stdout",
     "output_type": "stream",
     "text": [
      "<class 'numpy.ndarray'>\n"
     ]
    },
    {
     "data": {
      "text/plain": [
       "['T',\n",
       " '__abs__',\n",
       " '__add__',\n",
       " '__and__',\n",
       " '__array__',\n",
       " '__array_finalize__',\n",
       " '__array_function__',\n",
       " '__array_interface__',\n",
       " '__array_prepare__',\n",
       " '__array_priority__',\n",
       " '__array_struct__',\n",
       " '__array_ufunc__',\n",
       " '__array_wrap__',\n",
       " '__bool__',\n",
       " '__class__',\n",
       " '__complex__',\n",
       " '__contains__',\n",
       " '__copy__',\n",
       " '__deepcopy__',\n",
       " '__delattr__',\n",
       " '__delitem__',\n",
       " '__dir__',\n",
       " '__divmod__',\n",
       " '__doc__',\n",
       " '__eq__',\n",
       " '__float__',\n",
       " '__floordiv__',\n",
       " '__format__',\n",
       " '__ge__',\n",
       " '__getattribute__',\n",
       " '__getitem__',\n",
       " '__gt__',\n",
       " '__hash__',\n",
       " '__iadd__',\n",
       " '__iand__',\n",
       " '__ifloordiv__',\n",
       " '__ilshift__',\n",
       " '__imatmul__',\n",
       " '__imod__',\n",
       " '__imul__',\n",
       " '__index__',\n",
       " '__init__',\n",
       " '__init_subclass__',\n",
       " '__int__',\n",
       " '__invert__',\n",
       " '__ior__',\n",
       " '__ipow__',\n",
       " '__irshift__',\n",
       " '__isub__',\n",
       " '__iter__',\n",
       " '__itruediv__',\n",
       " '__ixor__',\n",
       " '__le__',\n",
       " '__len__',\n",
       " '__lshift__',\n",
       " '__lt__',\n",
       " '__matmul__',\n",
       " '__mod__',\n",
       " '__mul__',\n",
       " '__ne__',\n",
       " '__neg__',\n",
       " '__new__',\n",
       " '__or__',\n",
       " '__pos__',\n",
       " '__pow__',\n",
       " '__radd__',\n",
       " '__rand__',\n",
       " '__rdivmod__',\n",
       " '__reduce__',\n",
       " '__reduce_ex__',\n",
       " '__repr__',\n",
       " '__rfloordiv__',\n",
       " '__rlshift__',\n",
       " '__rmatmul__',\n",
       " '__rmod__',\n",
       " '__rmul__',\n",
       " '__ror__',\n",
       " '__rpow__',\n",
       " '__rrshift__',\n",
       " '__rshift__',\n",
       " '__rsub__',\n",
       " '__rtruediv__',\n",
       " '__rxor__',\n",
       " '__setattr__',\n",
       " '__setitem__',\n",
       " '__setstate__',\n",
       " '__sizeof__',\n",
       " '__str__',\n",
       " '__sub__',\n",
       " '__subclasshook__',\n",
       " '__truediv__',\n",
       " '__xor__',\n",
       " 'all',\n",
       " 'any',\n",
       " 'argmax',\n",
       " 'argmin',\n",
       " 'argpartition',\n",
       " 'argsort',\n",
       " 'astype',\n",
       " 'base',\n",
       " 'byteswap',\n",
       " 'choose',\n",
       " 'clip',\n",
       " 'compress',\n",
       " 'conj',\n",
       " 'conjugate',\n",
       " 'copy',\n",
       " 'ctypes',\n",
       " 'cumprod',\n",
       " 'cumsum',\n",
       " 'data',\n",
       " 'diagonal',\n",
       " 'dot',\n",
       " 'dtype',\n",
       " 'dump',\n",
       " 'dumps',\n",
       " 'fill',\n",
       " 'flags',\n",
       " 'flat',\n",
       " 'flatten',\n",
       " 'getfield',\n",
       " 'imag',\n",
       " 'item',\n",
       " 'itemset',\n",
       " 'itemsize',\n",
       " 'max',\n",
       " 'mean',\n",
       " 'min',\n",
       " 'nbytes',\n",
       " 'ndim',\n",
       " 'newbyteorder',\n",
       " 'nonzero',\n",
       " 'partition',\n",
       " 'prod',\n",
       " 'ptp',\n",
       " 'put',\n",
       " 'ravel',\n",
       " 'real',\n",
       " 'repeat',\n",
       " 'reshape',\n",
       " 'resize',\n",
       " 'round',\n",
       " 'searchsorted',\n",
       " 'setfield',\n",
       " 'setflags',\n",
       " 'shape',\n",
       " 'size',\n",
       " 'sort',\n",
       " 'squeeze',\n",
       " 'std',\n",
       " 'strides',\n",
       " 'sum',\n",
       " 'swapaxes',\n",
       " 'take',\n",
       " 'tobytes',\n",
       " 'tofile',\n",
       " 'tolist',\n",
       " 'tostring',\n",
       " 'trace',\n",
       " 'transpose',\n",
       " 'var',\n",
       " 'view']"
      ]
     },
     "execution_count": 3,
     "metadata": {},
     "output_type": "execute_result"
    }
   ],
   "source": [
    "my_array = np.array([0])\n",
    "print(type(my_array))\n",
    "dir(np.ndarray)"
   ]
  },
  {
   "cell_type": "markdown",
   "metadata": {},
   "source": [
    "Propose at leat 2 ways to create an integer vector of size 100 made of 1s"
   ]
  },
  {
   "cell_type": "code",
   "execution_count": 4,
   "metadata": {},
   "outputs": [],
   "source": [
    "vector1 = np.ones((100,), dtype=int)"
   ]
  },
  {
   "cell_type": "code",
   "execution_count": 5,
   "metadata": {},
   "outputs": [],
   "source": [
    "vector1 = np.zeros((100,), dtype = int )\n",
    "for i in range (100):\n",
    "    vector1[i] = 1\n"
   ]
  },
  {
   "cell_type": "markdown",
   "metadata": {},
   "source": [
    "Create a vector with values ranging from 10 to 49"
   ]
  },
  {
   "cell_type": "code",
   "execution_count": 6,
   "metadata": {},
   "outputs": [],
   "source": [
    "vector2 = np.arange(10,50)"
   ]
  },
  {
   "cell_type": "markdown",
   "metadata": {},
   "source": [
    "Propose a way to construct the vector $(0.0, 0.2, 0.4, 0.6, 0.8)$"
   ]
  },
  {
   "cell_type": "code",
   "execution_count": 7,
   "metadata": {},
   "outputs": [],
   "source": [
    "vector3 = np.array([0.0 , 0.2 , 0.4 , 0.6 , 0.8])\n",
    "vector3 = np.linspace(0.0 , 1.0 , 6 , endpoint=False)\n",
    "vector3 = np.arange(0.0 , 1.0 , 0.2)"
   ]
  },
  {
   "cell_type": "markdown",
   "metadata": {},
   "source": [
    "Convert a float array into an integer array in place"
   ]
  },
  {
   "cell_type": "code",
   "execution_count": 8,
   "metadata": {},
   "outputs": [
    {
     "name": "stdout",
     "output_type": "stream",
     "text": [
      "[0. 2. 4. 6. 8.]\n"
     ]
    }
   ],
   "source": [
    "vector4 = np.array([0.0 , 2.0 , 4.0 , 6.0 , 8.0])\n",
    "vector4.astype(int)\n",
    "print(vector4)"
   ]
  },
  {
   "cell_type": "markdown",
   "metadata": {},
   "source": [
    "Given a boolean array\n",
    "\n",
    "- return the indices where \n",
    "- negate the array inplace? "
   ]
  },
  {
   "cell_type": "code",
   "execution_count": 9,
   "metadata": {},
   "outputs": [
    {
     "name": "stdout",
     "output_type": "stream",
     "text": [
      "(array([2, 6], dtype=int64),)\n"
     ]
    }
   ],
   "source": [
    "sample_arr = [True, False]\n",
    "bool_arr = np.random.choice(sample_arr, size=10)\n",
    "L = np.where(bool_arr == True)\n",
    "print(L)"
   ]
  },
  {
   "cell_type": "code",
   "execution_count": 10,
   "metadata": {},
   "outputs": [
    {
     "data": {
      "text/plain": [
       "array([ True, False,  True, False,  True, False, False,  True,  True,\n",
       "       False])"
      ]
     },
     "execution_count": 10,
     "metadata": {},
     "output_type": "execute_result"
    }
   ],
   "source": [
    "sample_arr = np.array([True, False])\n",
    "bool_arr = np.random.choice(sample_arr, size=10)\n",
    "np.invert(bool_arr)"
   ]
  },
  {
   "cell_type": "markdown",
   "metadata": {},
   "source": [
    "Given 2 vectors $u, v$, propose at least\n",
    "\n",
    "- 2 ways to compute the inner product $v^{\\top} u$ (here they must have the same size)\n",
    "- 2 ways to compute the outer product matrix $u v^{\\top}$\n",
    "- 2 ways to compute the outer sum matrix \"$M = u + v^{\\top}$\", where $M_{ij} = u_i + v_j$"
   ]
  },
  {
   "cell_type": "code",
   "execution_count": 11,
   "metadata": {},
   "outputs": [
    {
     "name": "stdout",
     "output_type": "stream",
     "text": [
      "28\n",
      "28\n"
     ]
    }
   ],
   "source": [
    "u = np.random.randint(1,5 , size=5)\n",
    "v = np.random.randint(1,5, size = 5)\n",
    "print(np.dot(v,u))\n",
    "ps = 0\n",
    "for i in range(5):\n",
    "    ps += u[i]*v[i] \n",
    "print(ps)\n"
   ]
  },
  {
   "cell_type": "code",
   "execution_count": 12,
   "metadata": {},
   "outputs": [
    {
     "name": "stdout",
     "output_type": "stream",
     "text": [
      "[[ 9.  3.  9.  3.  6.]\n",
      " [12.  4. 12.  4.  8.]\n",
      " [ 6.  2.  6.  2.  4.]\n",
      " [ 3.  1.  3.  1.  2.]\n",
      " [12.  4. 12.  4.  8.]]\n",
      "[[ 9  3  9  3  6]\n",
      " [12  4 12  4  8]\n",
      " [ 6  2  6  2  4]\n",
      " [ 3  1  3  1  2]\n",
      " [12  4 12  4  8]]\n"
     ]
    }
   ],
   "source": [
    "u = np.random.randint(1,5 , size=5)\n",
    "v = np.random.randint(1,5, size = 5)\n",
    "outer_matrix = np.zeros((5,5))\n",
    "for i in range(5):\n",
    "    for j in range(5):\n",
    "        outer_matrix[i][j] = u[i]*v[j]\n",
    "print(outer_matrix)\n",
    "u = np.reshape(u, (5,1))\n",
    "v = np.reshape(v, (5,1))\n",
    "print(np.dot(u,v.T))"
   ]
  },
  {
   "cell_type": "code",
   "execution_count": 13,
   "metadata": {},
   "outputs": [
    {
     "name": "stdout",
     "output_type": "stream",
     "text": [
      "[3 2 2 2 2]\n",
      "[4 2 2 2 4]\n",
      "[[7. 5. 5. 5. 7.]\n",
      " [6. 4. 4. 4. 6.]\n",
      " [6. 4. 4. 4. 6.]\n",
      " [6. 4. 4. 4. 6.]\n",
      " [6. 4. 4. 4. 6.]]\n",
      "[[7. 5. 5. 5. 7.]\n",
      " [6. 4. 4. 4. 6.]\n",
      " [6. 4. 4. 4. 6.]\n",
      " [6. 4. 4. 4. 6.]\n",
      " [6. 4. 4. 4. 6.]]\n"
     ]
    }
   ],
   "source": [
    "u = np.random.randint(1 , 5 , size=5)\n",
    "v = np.random.randint(1, 5, size = 5)\n",
    "M = np.zeros((5,5))\n",
    "for i in range(5):\n",
    "    for j in range(5):\n",
    "        M[i][j] = u[i]+v[j]\n",
    "print(u)\n",
    "print(v)\n",
    "print(M)\n",
    "I = np.ones(5)\n",
    "A = np.outer(u,I)\n",
    "B = np.outer(I,v)\n",
    "print(A+B)"
   ]
  },
  {
   "cell_type": "markdown",
   "metadata": {},
   "source": [
    "Given the following matrix\n",
    "\n",
    "$$\n",
    "M = \n",
    "\\begin{pmatrix}\n",
    "    0 & 1 & 2 \\\\\n",
    "    3 & 4 & 5 \\\\\n",
    "    6 & 7 & 8 \\\\\n",
    "\\end{pmatrix}\n",
    "$$\n",
    "\n",
    "- Create $M$ using as a list of lists and access the element in the middle\n",
    "- Propose at least 2 ways to create $M$ using numpy and access the element in the middle\n",
    "- Swap its first and second row\n",
    "- Propose at least 3 ways to extract the submatrix $\\begin{pmatrix}4 & 5 \\\\7 & 8 \\\\\\end{pmatrix}$\n",
    "- Propose at least 2 ways to extract the diagonal of $M$\n",
    "- Propose at least 2 ways to compute $M^3$\n",
    "- Compute $v^{\\top} M$, resp. $M N$ for a vector, resp. a matrix of your choice. \n",
    "- Propose 2 ways to \"vectorize\" the matrix, i.e., transform it into\n",
    "  - $(0, 1, 2, 3, 4, 5, 6, 7, 8)$\n",
    "  - $(0, 3, 6, 1, 4, 7, 2, 5, 8)$\n",
    "- Consider $v = (1, 2 , 3)$, compute the\n",
    "  - row-wise multiplication of $M$ by $v$ ($M_{i\\cdot}$ is multiplied by $v_i$)\n",
    "  - column-wise multiplication of $M$ by $v$ ($M_{\\cdot j}$ is multiplied by $v_i$)"
   ]
  },
  {
   "cell_type": "code",
   "execution_count": 14,
   "metadata": {},
   "outputs": [
    {
     "name": "stdout",
     "output_type": "stream",
     "text": [
      "[[0 1 2]\n",
      " [3 4 5]\n",
      " [6 7 8]]\n"
     ]
    }
   ],
   "source": [
    "M = np.array([[0,1,2],[3,4,5],[6,7,8]])\n",
    "print(M)"
   ]
  },
  {
   "cell_type": "code",
   "execution_count": 15,
   "metadata": {},
   "outputs": [
    {
     "name": "stdout",
     "output_type": "stream",
     "text": [
      "[[0 1 2]\n",
      " [3 4 5]\n",
      " [6 7 8]]\n"
     ]
    }
   ],
   "source": [
    "M = np.arange(0,9 ,1)\n",
    "M = M.reshape(3,3)\n",
    "print(M)"
   ]
  },
  {
   "cell_type": "code",
   "execution_count": 16,
   "metadata": {},
   "outputs": [
    {
     "data": {
      "text/plain": [
       "4"
      ]
     },
     "execution_count": 16,
     "metadata": {},
     "output_type": "execute_result"
    }
   ],
   "source": [
    "M[1][1]"
   ]
  },
  {
   "cell_type": "code",
   "execution_count": 17,
   "metadata": {},
   "outputs": [
    {
     "name": "stdout",
     "output_type": "stream",
     "text": [
      "[[0 1 2]\n",
      " [6 7 8]\n",
      " [3 4 5]]\n"
     ]
    }
   ],
   "source": [
    "H = M.copy()\n",
    "H[1], H[2] = H[2],M[1]\n",
    "print(H)"
   ]
  },
  {
   "cell_type": "code",
   "execution_count": 18,
   "metadata": {},
   "outputs": [
    {
     "data": {
      "text/plain": [
       "array([[4, 5],\n",
       "       [7, 8]])"
      ]
     },
     "execution_count": 18,
     "metadata": {},
     "output_type": "execute_result"
    }
   ],
   "source": [
    "M[1:,1:]"
   ]
  },
  {
   "cell_type": "code",
   "execution_count": 19,
   "metadata": {},
   "outputs": [
    {
     "data": {
      "text/plain": [
       "array([[4, 5],\n",
       "       [7, 8]])"
      ]
     },
     "execution_count": 19,
     "metadata": {},
     "output_type": "execute_result"
    }
   ],
   "source": [
    "M[np.ix_([1,2],[1,2])]"
   ]
  },
  {
   "cell_type": "code",
   "execution_count": 20,
   "metadata": {},
   "outputs": [
    {
     "name": "stdout",
     "output_type": "stream",
     "text": [
      "<generator object <genexpr> at 0x000001EA5936EF90>\n"
     ]
    }
   ],
   "source": [
    "B = np.array (M[i][i] for i in range(0,3))\n",
    "print(B)"
   ]
  },
  {
   "cell_type": "markdown",
   "metadata": {},
   "source": [
    "Write a function `is_symmetric` that checks whether a given n x n matrix is symmetric, and provide an example"
   ]
  },
  {
   "cell_type": "markdown",
   "metadata": {},
   "source": [
    "## Random\n",
    "\n",
    "REQUIREMENT: USE THE FUNCTION `get_random_number_generator` as previously used in Lab 2."
   ]
  },
  {
   "cell_type": "markdown",
   "metadata": {},
   "source": [
    "Consider the Bernoulli(0.4) distribution\n",
    "\n",
    "- Propose at least 2 ways to generate n=1000 samples from it\n",
    "- Compute the empirical mean and variance"
   ]
  },
  {
   "cell_type": "markdown",
   "metadata": {},
   "source": [
    "Consider a random matrix of size $50 \\times 100$, filled with i.i.d. standard Gaussian variables, compute\n",
    "\n",
    "- the absolute value of each entry\n",
    "- the sum of each row\n",
    "- the sum of each colomn \n",
    "- the (euclidean) norm of each row\n",
    "- the (euclidean) norm of each column"
   ]
  },
  {
   "cell_type": "markdown",
   "metadata": {},
   "source": []
  }
 ],
 "metadata": {
  "interpreter": {
   "hash": "ce53bd1e3f4f23d919375827502dc7674b38ae312391deed7b160f20d210204c"
  },
  "kernelspec": {
   "display_name": "Python 3.8.11 64-bit ('sdia-python': conda)",
   "name": "python3"
  },
  "language_info": {
   "codemirror_mode": {
    "name": "ipython",
    "version": 3
   },
   "file_extension": ".py",
   "mimetype": "text/x-python",
   "name": "python",
   "nbconvert_exporter": "python",
   "pygments_lexer": "ipython3",
   "version": "3.8.11"
  },
  "toc": {
   "base_numbering": 1,
   "nav_menu": {},
   "number_sections": false,
   "sideBar": true,
   "skip_h1_title": true,
   "title_cell": "Lecture Outline",
   "title_sidebar": "Contents",
   "toc_cell": true,
   "toc_position": {},
   "toc_section_display": true,
   "toc_window_display": true
  }
 },
 "nbformat": 4,
 "nbformat_minor": 4
}
